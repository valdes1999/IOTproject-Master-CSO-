{
 "cells": [
  {
   "cell_type": "code",
   "execution_count": 1,
   "id": "3001570a",
   "metadata": {},
   "outputs": [
    {
     "ename": "ModuleNotFoundError",
     "evalue": "No module named 'zigbee'",
     "output_type": "error",
     "traceback": [
      "\u001b[1;31m---------------------------------------------------------------------------\u001b[0m",
      "\u001b[1;31mModuleNotFoundError\u001b[0m                       Traceback (most recent call last)",
      "Input \u001b[1;32mIn [1]\u001b[0m, in \u001b[0;36m<cell line: 1>\u001b[1;34m()\u001b[0m\n\u001b[1;32m----> 1\u001b[0m \u001b[38;5;28;01mimport\u001b[39;00m \u001b[38;5;21;01mzigbee\u001b[39;00m\n\u001b[0;32m      3\u001b[0m \u001b[38;5;66;03m# Configuration du client Zigbee\u001b[39;00m\n\u001b[0;32m      4\u001b[0m client \u001b[38;5;241m=\u001b[39m zigbee\u001b[38;5;241m.\u001b[39mClient()\n",
      "\u001b[1;31mModuleNotFoundError\u001b[0m: No module named 'zigbee'"
     ]
    }
   ],
   "source": [
    "import zigbee\n",
    "\n",
    "# Configuration du client Zigbee\n",
    "client = zigbee.Client()\n",
    "client.connect(\"192.168.1.100\", 8888)  # Remplacez l'adresse IP et le port par ceux de votre serveur Zigbee\n",
    "\n",
    "# Envoi d'une commande au serveur Zigbee\n",
    "command = \"allumer_lumiere\"\n",
    "client.send_command(command)\n",
    "\n",
    "# Fermeture de la connexion\n",
    "client.close()"
   ]
  },
  {
   "cell_type": "code",
   "execution_count": null,
   "id": "09e5c917",
   "metadata": {},
   "outputs": [],
   "source": []
  }
 ],
 "metadata": {
  "kernelspec": {
   "display_name": "Python 3 (ipykernel)",
   "language": "python",
   "name": "python3"
  },
  "language_info": {
   "codemirror_mode": {
    "name": "ipython",
    "version": 3
   },
   "file_extension": ".py",
   "mimetype": "text/x-python",
   "name": "python",
   "nbconvert_exporter": "python",
   "pygments_lexer": "ipython3",
   "version": "3.9.12"
  }
 },
 "nbformat": 4,
 "nbformat_minor": 5
}
