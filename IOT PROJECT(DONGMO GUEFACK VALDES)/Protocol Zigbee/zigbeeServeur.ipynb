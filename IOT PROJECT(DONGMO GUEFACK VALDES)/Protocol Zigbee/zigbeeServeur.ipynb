{
 "cells": [
  {
   "cell_type": "code",
   "execution_count": 2,
   "id": "40a8062a",
   "metadata": {},
   "outputs": [
    {
     "ename": "NameError",
     "evalue": "name 'zigbee' is not defined",
     "output_type": "error",
     "traceback": [
      "\u001b[1;31m---------------------------------------------------------------------------\u001b[0m",
      "\u001b[1;31mNameError\u001b[0m                                 Traceback (most recent call last)",
      "Input \u001b[1;32mIn [2]\u001b[0m, in \u001b[0;36m<cell line: 2>\u001b[1;34m()\u001b[0m\n\u001b[0;32m      1\u001b[0m \u001b[38;5;66;03m# Configuration du serveur Zigbee\u001b[39;00m\n\u001b[1;32m----> 2\u001b[0m server \u001b[38;5;241m=\u001b[39m \u001b[43mzigbee\u001b[49m\u001b[38;5;241m.\u001b[39mServer()\n\u001b[0;32m      3\u001b[0m server\u001b[38;5;241m.\u001b[39mbind(\u001b[38;5;124m\"\u001b[39m\u001b[38;5;124m192.168.1.100\u001b[39m\u001b[38;5;124m\"\u001b[39m, \u001b[38;5;241m8888\u001b[39m)  \u001b[38;5;66;03m# Remplacez l'adresse IP et le port par ceux de votre serveur Zigbee\u001b[39;00m\n\u001b[0;32m      5\u001b[0m \u001b[38;5;66;03m# Attente de la connexion d'un client\u001b[39;00m\n",
      "\u001b[1;31mNameError\u001b[0m: name 'zigbee' is not defined"
     ]
    }
   ],
   "source": [
    "\n",
    "\n",
    "# Configuration du serveur Zigbee\n",
    "server = zigbee.Server()\n",
    "server.bind(\"192.168.1.100\", 8888)  # Remplacez l'adresse IP et le port par ceux de votre serveur Zigbee\n",
    "\n",
    "# Attente de la connexion d'un client\n",
    "server.listen()\n",
    "\n",
    "# Réception des commandes du client\n",
    "while True:\n",
    "    command = server.receive_command()\n",
    "    if command == \"allumer_lumiere\":\n",
    "        # Code pour allumer la lumière\n",
    "        print(\"La lumière est allumée!\")\n",
    "    elif command == \"eteindre_lumiere\":\n",
    "        # Code pour éteindre la lumière\n",
    "        print(\"La lumière est éteinte!\")\n",
    "    else:\n",
    "        print(\"Commande inconnue\")\n",
    "\n",
    "# Fermeture du serveur (cette partie ne sera jamais atteinte dans cet exemple)\n",
    "server.close()"
   ]
  },
  {
   "cell_type": "code",
   "execution_count": null,
   "id": "0595edb8",
   "metadata": {},
   "outputs": [],
   "source": []
  }
 ],
 "metadata": {
  "kernelspec": {
   "display_name": "Python 3 (ipykernel)",
   "language": "python",
   "name": "python3"
  },
  "language_info": {
   "codemirror_mode": {
    "name": "ipython",
    "version": 3
   },
   "file_extension": ".py",
   "mimetype": "text/x-python",
   "name": "python",
   "nbconvert_exporter": "python",
   "pygments_lexer": "ipython3",
   "version": "3.9.12"
  }
 },
 "nbformat": 4,
 "nbformat_minor": 5
}
