{
 "cells": [
  {
   "cell_type": "code",
   "execution_count": 1,
   "id": "59038be5",
   "metadata": {},
   "outputs": [
    {
     "name": "stdout",
     "output_type": "stream",
     "text": [
      "Réponse du serveur: Bonjour, chers client!\n"
     ]
    }
   ],
   "source": [
    "import socket\n",
    "\n",
    "# Création d'un socket UDP\n",
    "client_socket = socket.socket(socket.AF_INET, socket.SOCK_DGRAM)\n",
    "\n",
    "# Adresse IP et port du serveur\n",
    "server_address = ('127.0.0.1', 12345)\n",
    "\n",
    "# Message à envoyer au serveur\n",
    "message = 'Hello, serveur!'\n",
    "\n",
    "try:\n",
    "    # Envoi du message au serveur\n",
    "    client_socket.sendto(message.encode(), server_address)\n",
    "\n",
    "    # Réception de la réponse du serveur\n",
    "    data, server = client_socket.recvfrom(1024)\n",
    "    print('Réponse du serveur:', data.decode())\n",
    "\n",
    "finally:\n",
    "    # Fermeture du socket client\n",
    "    client_socket.close()\n"
   ]
  },
  {
   "cell_type": "code",
   "execution_count": null,
   "id": "2ab7aa0e",
   "metadata": {},
   "outputs": [],
   "source": []
  }
 ],
 "metadata": {
  "kernelspec": {
   "display_name": "Python 3 (ipykernel)",
   "language": "python",
   "name": "python3"
  },
  "language_info": {
   "codemirror_mode": {
    "name": "ipython",
    "version": 3
   },
   "file_extension": ".py",
   "mimetype": "text/x-python",
   "name": "python",
   "nbconvert_exporter": "python",
   "pygments_lexer": "ipython3",
   "version": "3.9.12"
  }
 },
 "nbformat": 4,
 "nbformat_minor": 5
}
