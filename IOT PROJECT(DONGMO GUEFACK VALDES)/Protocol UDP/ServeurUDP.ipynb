{
 "cells": [
  {
   "cell_type": "code",
   "execution_count": null,
   "id": "fc9f4ae9",
   "metadata": {},
   "outputs": [
    {
     "name": "stdout",
     "output_type": "stream",
     "text": [
      "Le serveur est prêt à recevoir des messages...\n",
      "Message reçu du client: Hello, serveur!\n"
     ]
    }
   ],
   "source": [
    "import socket\n",
    "\n",
    "# Création d'un socket UDP\n",
    "server_socket = socket.socket(socket.AF_INET, socket.SOCK_DGRAM)\n",
    "\n",
    "# Adresse IP et port du serveur\n",
    "server_address = ('127.0.0.1', 12345)\n",
    "\n",
    "# Lier le socket à l'adresse IP et au port du serveur\n",
    "server_socket.bind(server_address)\n",
    "\n",
    "print('Le serveur est prêt à recevoir des messages...')\n",
    "\n",
    "while True:\n",
    "    # Réception du message du client et de son adresse\n",
    "    data, address = server_socket.recvfrom(1024)\n",
    "    print('Message reçu du client:', data.decode())\n",
    "\n",
    "    # Réponse au client\n",
    "    response = 'Bonjour, chers client!'\n",
    "    server_socket.sendto(response.encode(), address)"
   ]
  },
  {
   "cell_type": "code",
   "execution_count": null,
   "id": "d6ea7f01",
   "metadata": {},
   "outputs": [],
   "source": []
  }
 ],
 "metadata": {
  "kernelspec": {
   "display_name": "Python 3 (ipykernel)",
   "language": "python",
   "name": "python3"
  },
  "language_info": {
   "codemirror_mode": {
    "name": "ipython",
    "version": 3
   },
   "file_extension": ".py",
   "mimetype": "text/x-python",
   "name": "python",
   "nbconvert_exporter": "python",
   "pygments_lexer": "ipython3",
   "version": "3.9.12"
  }
 },
 "nbformat": 4,
 "nbformat_minor": 5
}
